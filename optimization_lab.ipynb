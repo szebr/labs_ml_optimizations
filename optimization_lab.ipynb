{
 "cells": [
  {
   "cell_type": "markdown",
   "metadata": {},
   "source": [
    "## 1. Optimization algorithms\n",
    "Make sure to go over the implementation of the optimization algorithms in the \"Hello, world\" demo. Run all the corresponding code cells to undesstandhoe tese algorithms work.\n",
    "\n",
    "The same algorithms are copied here in their most generic form."
   ]
  },
  {
   "cell_type": "code",
   "execution_count": 32,
   "metadata": {},
   "outputs": [],
   "source": [
    "# import required libraries\n",
    "import random\n",
    "import math"
   ]
  },
  {
   "cell_type": "markdown",
   "metadata": {},
   "source": [
    "### 1.1. Random guess\n",
    "Optimizes overall fitness score by creating $n$ random guesses and selecting the best."
   ]
  },
  {
   "cell_type": "code",
   "execution_count": 33,
   "metadata": {},
   "outputs": [],
   "source": [
    "def random_optimize(domain,  fitness_function, n=9999):    \n",
    "    best_score = None\n",
    "    best_sol = None\n",
    "    for iter in range(n):\n",
    "        # Create a random solution\n",
    "        # domain[i] represents a range of all valid choices for position i\n",
    "        r=[random.randint(domain[i][0],domain[i][1])\n",
    "                      for i in range(len(domain))]        \n",
    "    \n",
    "        # Get the cost\n",
    "        cost=fitness_function(r)\n",
    "    \n",
    "        # Compare it to the best one so far\n",
    "        if best_score is None or cost < best_score:\n",
    "            best_score = cost\n",
    "            best_sol = r\n",
    "\n",
    "    return (best_sol, best_score, n)"
   ]
  },
  {
   "cell_type": "markdown",
   "metadata": {},
   "source": [
    "### 1.2. Hill climbing \n",
    "Starts from a random point in the solution space, and moves into a direction of a neighboring solution with the better fitness score, until no more such solutions can be found. Often finds a local minimum instead of the global one.\n",
    "\n",
    "For each position in the solution, the *domain* contains a valid min and max. This prevents from considering invalid solutions."
   ]
  },
  {
   "cell_type": "code",
   "execution_count": 34,
   "metadata": {},
   "outputs": [],
   "source": [
    "def hillclimb_optimize(domain, fitness_function):\n",
    "    # Create an initial random solution\n",
    "    best_sol=[random.randint(domain[i][0],domain[i][1])\n",
    "              for i in range(len(domain))]\n",
    "\n",
    "    # Main loop: until no better neighbors\n",
    "    iterations = 0\n",
    "    while 1:\n",
    "        best_score=fitness_function(best_sol)        \n",
    "        current_score = best_score\n",
    "        \n",
    "        iterations += 1\n",
    "        \n",
    "        # Create list of all neighboring solutions\n",
    "        neighbors=[]\n",
    "\n",
    "        for j in range(len(domain)):\n",
    "            # One away in each direction\n",
    "            # if current best-SOl[j] is not the smallest in the domain \n",
    "            # - we can subtract 1\n",
    "            if best_sol[j]>domain[j][0]: \n",
    "                neighbors.append(best_sol[0:j]+[best_sol[j]-1]+best_sol[j+1:])\n",
    "            # if current best-SOl[j] is not the largest in the domain \n",
    "            # - we can add 1 \n",
    "            if best_sol[j]< domain[j][1]:\n",
    "                neighbors.append(best_sol[0:j]+[best_sol[j]+1]+best_sol[j+1:])\n",
    "\n",
    "        # See what the best solution amongst the neighbors is        \n",
    "        for j in range(len(neighbors)):\n",
    "            cost = fitness_function(neighbors[j])\n",
    "            if cost < best_score:\n",
    "                best_score = cost\n",
    "                best_sol = neighbors[j]\n",
    "\n",
    "        # If there's no improvement, then we've reached the local min\n",
    "        if best_score == current_score:\n",
    "            break\n",
    "            \n",
    "        if best_score == 0:\n",
    "            break\n",
    "\n",
    "    return (best_sol, best_score, iterations)"
   ]
  },
  {
   "cell_type": "markdown",
   "metadata": {},
   "source": [
    "### 1.3. Simulated annealing \n",
    "We start with a random point in the search space, as before. We generate a random neighbor. If the score of the neighbor is better than the current score - we replace current solution with it. If the score is worse - we still can accept the solution, depending on the phase of the algorithm, reflected in the decreasing value of temperature $T$. In the beginning we set the temperature high, and the probability of selecting worse solution is higher. This allows to better explore the search space and get out of the local minimum. The temperature gradually decreases, and so at the end we do not accept bad solutions: the program settlest with a hopefully global minimum.\n",
    "\n",
    "The criterion of accepting ''bad'' solutions is given by the following formula:\n",
    "\n",
    "$p=e^{\\frac{-\\Delta F}{T}}>R(0,1)$\n",
    "\n",
    "where $T$ is the current temperature, $R(0,1)$ is a random number between $0$ and $1$, and $\\Delta F$ is the difference between the fitness score of new solution and the old solution."
   ]
  },
  {
   "cell_type": "code",
   "execution_count": 35,
   "metadata": {},
   "outputs": [],
   "source": [
    "def annealing_optimize(domain, fitness_function,\n",
    "                      T=10000.0,cool=0.95,step=1, deltastop=0.1):\n",
    "    # Create an initial random solution\n",
    "    best_sol =[random.randint(domain[i][0],domain[i][1])\n",
    "              for i in range(len(domain))]\n",
    "    \n",
    "    iterations = 0\n",
    "    while T > deltastop:\n",
    "        iterations += 1\n",
    "        \n",
    "        # Choose one of the indices at random\n",
    "        i = random.randint(0,len(domain)-1) #randint selects INCLUDING the max\n",
    "\n",
    "        # Choose a random direction to change it\n",
    "        dir = random.randint(-step,step)\n",
    "\n",
    "        # Create a new solution with one of the values changed into a random direction\n",
    "        sol_b = best_sol[:]\n",
    "        sol_b [i] += dir\n",
    "        \n",
    "        # check that it is within allowed domain\n",
    "        # if sol_b[i] smaller than the min allowed value\n",
    "        # replace it with the smallest from the domain\n",
    "        if sol_b [i] < domain[i][0]:\n",
    "            sol_b [i] = domain[i][0]\n",
    "        # if sol_b[i] larger than the max allowed value\n",
    "        # replace it with the largest from the domain\n",
    "        elif sol_b [i] > domain[i][1]:\n",
    "            sol_b [i] = domain[i][1] \n",
    "\n",
    "        # Calculate the cost of the current_best solution\n",
    "        best_score = fitness_function(best_sol)\n",
    "        \n",
    "        if best_score == 0:\n",
    "            break\n",
    "            \n",
    "        # Calculate score of a new solution   \n",
    "        b_score = fitness_function(sol_b)\n",
    "        \n",
    "        # If T is really large, exp -> 0, and p -> 1\n",
    "        # If T is small, exp is defined by difference between new and old score\n",
    "        # If T is very small, exp -> infinity, p -> 0 \n",
    "        exp = -(b_score - best_score)/T        \n",
    "        p = pow (math.e, exp)\n",
    "\n",
    "        # Is it better, \n",
    "        # or does it make the probability cutoff?\n",
    "        if b_score < best_score or p > random.random():\n",
    "            best_sol = sol_b        \n",
    "        \n",
    "        # Decrease the temperature\n",
    "        T = T*cool\n",
    "\n",
    "    return (best_sol, fitness_function(best_sol), iterations)"
   ]
  },
  {
   "cell_type": "markdown",
   "metadata": {},
   "source": [
    "### 1.4. Genetic algorithm optimization\n",
    "The algorithm starts with a population of $popsize$ random individuals, and in each generation selects the $elite\\_ratio$ percents with the best fitness score (elite). It continues to the next generation with this group. In order to enrich the genetic pool in the current generation, the algorithm adds random mutations with probability $mut\\_prob$ and mating (crossover) between the members of the elite group. After predefined number of generations $n$, the algorithm returns the individual with the best fitness score. "
   ]
  },
  {
   "cell_type": "code",
   "execution_count": 36,
   "metadata": {},
   "outputs": [],
   "source": [
    "# this code goes into code cell 1.4  \n",
    "def genetic_optimize (domain, fitness_function,\n",
    "                    popsize=100, step=1,\n",
    "                    mut_prob=0.2, elite_ratio=0.2, n=100):\n",
    "    # Mutation Operation\n",
    "    def mutate(vec):\n",
    "        # choose random index in the solution\n",
    "        i=random.randint(0,len(domain)-1)\n",
    "        # Rooll the dice and with equal probability\n",
    "        # either increase or decrease value at i by step\n",
    "        if random.random()<0.5 and (vec[i] - step) >= domain[i][0]:\n",
    "            return vec[0:i]+[vec[i]-step]+vec[i+1:]\n",
    "        elif (vec[i]+step) <= domain[i][1]:\n",
    "            return vec[0:i]+[vec[i]+step]+vec[i+1:]\n",
    "        return vec\n",
    "\n",
    "    # Crossover Operation\n",
    "    def crossover(r1,r2):\n",
    "        i=random.randint(0,len(domain)-1)\n",
    "        return r1[0:i]+r2[i:]\n",
    "\n",
    "    # Build the initial population of random solutions\n",
    "    pop=[]\n",
    "    for i in range(popsize):\n",
    "        vec = [random.randint(domain[i][0],domain[i][1])\n",
    "               for i in range(len(domain))]\n",
    "        pop.append(vec)\n",
    "\n",
    "    # How many winners from each generation?\n",
    "    topelite=int(elite_ratio*popsize)\n",
    "\n",
    "    # Main loop\n",
    "    generations = 0\n",
    "    for i in range(n):\n",
    "        # This is the list of all solutions in the population together with their fitness scores\n",
    "        scores = [(fitness_function(sol_vect), sol_vect) for sol_vect in pop]\n",
    "        \n",
    "        # We sort this list by score\n",
    "        scores.sort()\n",
    "\n",
    "        # See what is current top best score\n",
    "        if scores[0][0] == 0:\n",
    "            break\n",
    "        \n",
    "        generations += 1\n",
    "        \n",
    "        # this is a list of just the solutions extracted from the sorted by score\n",
    "        ranked_solutions = [sol_vect for (cost, sol_vect) in scores]\n",
    "\n",
    "        # Build next gen population\n",
    "        # Start with the pure winners\n",
    "        pop = ranked_solutions[0:topelite]\n",
    "\n",
    "        # Add mutated and bred forms of the winners\n",
    "        while len(pop) < popsize:\n",
    "            if random.random() < mut_prob:\n",
    "                # Mutation. Select random individual from elite group and mutate\n",
    "                c = random.randint(0,topelite-1)\n",
    "                pop.append(mutate(ranked_solutions[c]))\n",
    "            else:\n",
    "                # Crossover. Select 2 random individuals from elite group and cross\n",
    "                c1 = random.randint(0, topelite-1)\n",
    "                c2 = random.randint(0, topelite-1)\n",
    "                pop.append(crossover(ranked_solutions[c1],ranked_solutions[c2]))\n",
    "                \n",
    "    # After n generations return the top scored solution from the sorted list of scores\n",
    "    return (scores[0][1], scores[0][0], generations)"
   ]
  },
  {
   "cell_type": "markdown",
   "metadata": {},
   "source": [
    "## 2. DEMO: Group schedule optimization\n",
    "We want to optimize the group schedule for 6 family memebers, which come from different cities to the meetup in New York. "
   ]
  },
  {
   "cell_type": "code",
   "execution_count": 37,
   "metadata": {},
   "outputs": [],
   "source": [
    "people = [  ('Seymour', 'BOS'),\n",
    "            ('Franny', 'DAL'),\n",
    "            ('Zooey', 'CAK'),\n",
    "            ('Walt', 'MIA'),\n",
    "            ('Buddy', 'ORD'),\n",
    "            ('Les', 'OMA')]\n",
    "\n",
    "# LaGuardia airport (New York) \n",
    "destination = 'LGA'"
   ]
  },
  {
   "cell_type": "markdown",
   "metadata": {},
   "source": [
    "### 2.1. Available flights\n",
    "There are many flights per day to LGA from all these locations. Some sample flights are given in file [flights.txt](flights.txt). Each line in this file contains origin, destination, departure time, arrival time and ticket price in a comma-separated format.\n",
    "\n",
    "To have an efficient access to the information in this file, we load the data into a dictionary, where the key is a tuple (origin,destination) and the value is the list of all different flights and their details for a given key."
   ]
  },
  {
   "cell_type": "code",
   "execution_count": 38,
   "metadata": {},
   "outputs": [],
   "source": [
    "flights = {}\n",
    "# Create list of flights for each (origin,destination)\n",
    "f = open('flights.txt')\n",
    "for line in f:\n",
    "    # read one line from the file\n",
    "    origin, dest, depart, arrive, price = line.strip().split(',')\n",
    "    \n",
    "    # If no such key (origin,dest) yet - create it and init empty list\n",
    "    flights.setdefault((origin, dest), [])\n",
    "\n",
    "    # Add details to the list of possible flights\n",
    "    flights[(origin, dest)].append((depart, arrive, int(price)))"
   ]
  },
  {
   "cell_type": "code",
   "execution_count": 39,
   "metadata": {},
   "outputs": [
    {
     "data": {
      "text/plain": [
       "1223"
      ]
     },
     "execution_count": 39,
     "metadata": {},
     "output_type": "execute_result"
    }
   ],
   "source": [
    "import time\n",
    "\n",
    "# Useful function which converts 'hour:min' into minutes\n",
    "def getminutes(t):\n",
    "    x = time.strptime(t,'%H:%M')\n",
    "    return x[3]*60+x[4]\n",
    "\n",
    "getminutes(\"20:23\")"
   ]
  },
  {
   "cell_type": "markdown",
   "metadata": {},
   "source": [
    "### 2.2. Representing solutions\n",
    "Our sample of flight data contains 8 distinct flights for each combination of (origin,destination). The challenge is: for each family memebr to select one inbound flight (from their hometown to NYC) and one outbound flight (from NYC to their hometown) such that the entire schedule has an overall minimum possible cost.\n",
    "\n",
    "To use optimization algorithms, we need to define a string representation of a solution. so it is easy to process and modify it in code. One posible representation is a list containing an index (0-7) of inbound flight and an index (0-7) of outbound flight for each family member.\n",
    "\n",
    "For example list `t=[1,4,3,2,7,3,6,3,2,4,5,3]` encodes the solution in which Seymour (person 0) takes the second flight of the day from Boston to NYC `(t[0]=1)` and the fifth flight of the day from NYC to Boston `(t[1]=4)`.\n",
    "\n",
    "This representation is good for the algorithm, but we need to be able to interpret the final solution by humans.  "
   ]
  },
  {
   "cell_type": "code",
   "execution_count": 40,
   "metadata": {},
   "outputs": [
    {
     "name": "stdout",
     "output_type": "stream",
     "text": [
      "   Seymour       BOS  8:04-10:11 $ 95 12:08-14:05 $142\n",
      "    Franny       DAL 12:19-15:25 $342 10:51-14:16 $256\n",
      "     Zooey       CAK 10:53-13:36 $189  9:58-12:56 $249\n",
      "      Walt       MIA  9:15-12:29 $225 16:50-19:26 $304\n",
      "     Buddy       ORD 16:43-19:00 $246 10:33-13:11 $132\n",
      "       Les       OMA 11:08-13:07 $175 15:07-17:21 $129\n"
     ]
    }
   ],
   "source": [
    "# Displays the resulting schedule found by an algorithm\n",
    "def print_schedule(r):\n",
    "    for d in range(len(r)//2):\n",
    "        name = people[d][0]\n",
    "        origin = people[d][1]\n",
    "        out = flights[(origin,destination)][int(r[d])]\n",
    "        ret = flights[(destination,origin)][int(r[d+1])]\n",
    "        print('%10s%10s %5s-%5s $%3s %5s-%5s $%3s' % (name, origin,\n",
    "                                            out[0], out[1], out[2],\n",
    "                                            ret[0], ret[1], ret[2]))\n",
    "        \n",
    "s = [1,4,3,2,7,3,6,3,2,4,5,3]\n",
    "print_schedule(s)"
   ]
  },
  {
   "cell_type": "markdown",
   "metadata": {},
   "source": [
    "We also need to define a domain for each flight index. Because each (origin,destination) has precisely 8 possible flights, the min flight index is 0 and the max is 7. "
   ]
  },
  {
   "cell_type": "code",
   "execution_count": 41,
   "metadata": {},
   "outputs": [],
   "source": [
    "domain = [(0, 8)] * (len(people) * 2)"
   ]
  },
  {
   "cell_type": "markdown",
   "metadata": {},
   "source": [
    "### 2.3. Scoring solutions\n",
    "Deciding on how to score each solution is the most non-trivial task in the design of optimization algorithms. "
   ]
  },
  {
   "cell_type": "code",
   "execution_count": 42,
   "metadata": {},
   "outputs": [],
   "source": [
    "def schedule_cost(sol):\n",
    "    totalprice = 0\n",
    "    latestarrival = 0\n",
    "    earliestdep = 24 * 60\n",
    "\n",
    "    for d in range(len(sol) // 2):\n",
    "        # Get the inbound and outbound flights\n",
    "        origin = people[d][1]\n",
    "        outbound = flights[(origin, destination)][int(sol[d])]\n",
    "        returnf = flights[(destination, origin)][int(sol[d + 1])]\n",
    "\n",
    "        # Total price is the ticket price \n",
    "        # of all outbound and return flights\n",
    "        totalprice += outbound[2]\n",
    "        totalprice += returnf[2]\n",
    "\n",
    "        # Track the latest arrival and earliest departure\n",
    "        if latestarrival < getminutes(outbound[1]):\n",
    "            latestarrival = getminutes(outbound[1])\n",
    "        if earliestdep > getminutes(returnf[0]):\n",
    "            earliestdep = getminutes(returnf[0])\n",
    "\n",
    "    # Family memebrs want to share transportation to/from the airport\n",
    "    # Every person must wait at the airport until the latest person arrives.\n",
    "    # They also must arrive at the same time and wait for their flights.\n",
    "    totalwait = 0\n",
    "    for d in range(len(sol) // 2):\n",
    "        origin = people[d][1]\n",
    "        outbound = flights[(origin, destination)][int(sol[d])]\n",
    "        returnf = flights[(destination, origin)][int(sol[d + 1])]\n",
    "        totalwait += latestarrival - getminutes(outbound[1])\n",
    "        totalwait += getminutes(returnf[0]) - earliestdep\n",
    "\n",
    "    # Does this solution require an extra day of car rental? \n",
    "    # That will be additional $50!\n",
    "    if latestarrival > earliestdep:\n",
    "        totalprice += 50\n",
    "\n",
    "    return totalprice + totalwait"
   ]
  },
  {
   "cell_type": "code",
   "execution_count": 43,
   "metadata": {},
   "outputs": [
    {
     "data": {
      "text/plain": [
       "5285"
      ]
     },
     "execution_count": 43,
     "metadata": {},
     "output_type": "execute_result"
    }
   ],
   "source": [
    "# what is the schelute cost of our random solution?\n",
    "schedule_cost(s)"
   ]
  },
  {
   "cell_type": "markdown",
   "metadata": {},
   "source": [
    "### 2.4. Optimizing\n",
    "#### Random optimization\n",
    "Can we improve cost by creating 10000 random schedules and selecting the best?"
   ]
  },
  {
   "cell_type": "code",
   "execution_count": 44,
   "metadata": {},
   "outputs": [
    {
     "name": "stdout",
     "output_type": "stream",
     "text": [
      "\n",
      "-----------Random optimize----------\n",
      "Total cost for 10000 trials is:2775\n",
      "\n",
      "   Seymour       BOS 11:16-13:29 $ 83 10:33-12:03 $ 74\n",
      "    Franny       DAL 10:30-14:57 $290 10:51-14:16 $256\n",
      "     Zooey       CAK 10:53-13:36 $189 10:32-13:16 $139\n",
      "      Walt       MIA 11:28-14:40 $248 12:37-15:05 $170\n",
      "     Buddy       ORD 12:44-14:17 $134 10:33-13:11 $132\n",
      "       Les       OMA 11:08-13:07 $175 12:31-14:02 $234\n"
     ]
    }
   ],
   "source": [
    "sol, sol_cost, n = random_optimize(domain,  schedule_cost, 10000)\n",
    "print(\"\\n-----------Random optimize----------\")\n",
    "print(\"Total cost for {} trials is:{}\\n\".format(n, sol_cost))\n",
    "print_schedule(sol)"
   ]
  },
  {
   "cell_type": "markdown",
   "metadata": {},
   "source": [
    "#### Hill climbing\n",
    "Can we get a more optimized schedule?"
   ]
  },
  {
   "cell_type": "code",
   "execution_count": 45,
   "metadata": {},
   "outputs": [
    {
     "name": "stdout",
     "output_type": "stream",
     "text": [
      "\n",
      "-----------Hill climb optimize----------\n",
      "Total cost after 4 downhill steps is:3930\n",
      "\n",
      "   Seymour       BOS 17:11-18:30 $108 13:39-15:30 $ 74\n",
      "    Franny       DAL 13:54-18:02 $294 17:14-20:59 $277\n",
      "     Zooey       CAK 17:08-19:08 $262 10:32-13:16 $139\n",
      "      Walt       MIA 11:28-14:40 $248 15:23-18:49 $150\n",
      "     Buddy       ORD 15:58-18:40 $173 10:33-13:11 $132\n",
      "       Les       OMA 11:08-13:07 $175 11:07-13:24 $171\n"
     ]
    }
   ],
   "source": [
    "sol, sol_cost, n = hillclimb_optimize(domain, schedule_cost)\n",
    "print(\"\\n-----------Hill climb optimize----------\")\n",
    "print(\"Total cost after {} downhill steps is:{}\\n\".format(n, sol_cost))\n",
    "print_schedule(sol)"
   ]
  },
  {
   "cell_type": "markdown",
   "metadata": {},
   "source": [
    "#### Simulated annealing\n",
    "Can we get out of the local minimum trap?"
   ]
  },
  {
   "cell_type": "code",
   "execution_count": 46,
   "metadata": {},
   "outputs": [
    {
     "name": "stdout",
     "output_type": "stream",
     "text": [
      "\n",
      "-----------Annealing optimize----------\n",
      "Total cost after 11508 cooling steps is:2591\n",
      "\n",
      "   Seymour       BOS 12:34-15:02 $109 10:33-12:03 $ 74\n",
      "    Franny       DAL 10:30-14:57 $290 10:51-14:16 $256\n",
      "     Zooey       CAK 10:53-13:36 $189 10:32-13:16 $139\n",
      "      Walt       MIA 11:28-14:40 $248 12:37-15:05 $170\n",
      "     Buddy       ORD 12:44-14:17 $134 10:33-13:11 $132\n",
      "       Les       OMA 11:08-13:07 $175 11:07-13:24 $171\n"
     ]
    }
   ],
   "source": [
    "sol, sol_cost, n = annealing_optimize(domain, schedule_cost,cool=0.999)\n",
    "print(\"\\n-----------Annealing optimize----------\")\n",
    "print(\"Total cost after {} cooling steps is:{}\\n\".format(n, sol_cost))\n",
    "print_schedule(sol)"
   ]
  },
  {
   "cell_type": "markdown",
   "metadata": {},
   "source": [
    "#### Genetic algorithm\n",
    "Can biology help?"
   ]
  },
  {
   "cell_type": "code",
   "execution_count": 47,
   "metadata": {},
   "outputs": [
    {
     "name": "stdout",
     "output_type": "stream",
     "text": [
      "\n",
      "-----------Genetic algorithme----------\n",
      "Total cost after 100 generations is:2591\n",
      "\n",
      "   Seymour       BOS 12:34-15:02 $109 10:33-12:03 $ 74\n",
      "    Franny       DAL 10:30-14:57 $290 10:51-14:16 $256\n",
      "     Zooey       CAK 10:53-13:36 $189 10:32-13:16 $139\n",
      "      Walt       MIA 11:28-14:40 $248 12:37-15:05 $170\n",
      "     Buddy       ORD 12:44-14:17 $134 10:33-13:11 $132\n",
      "       Les       OMA 11:08-13:07 $175 11:07-13:24 $171\n"
     ]
    }
   ],
   "source": [
    "sol, sol_cost, n = genetic_optimize(domain, schedule_cost,\n",
    "                                popsize=2048, mut_prob=0.25,\n",
    "                                elite_ratio=0.1, n=100)\n",
    "print(\"\\n-----------Genetic algorithme----------\")\n",
    "print(\"Total cost after {} generations is:{}\\n\".format(n, sol_cost))\n",
    "print_schedule(sol)"
   ]
  },
  {
   "cell_type": "markdown",
   "metadata": {},
   "source": [
    "## 3. LAB: Dorm assignment optimization [Your turn!]\n",
    "### 3.1. Problem setup\n",
    "There are 5 dorms, each with 2 spaces available and 10 students\n",
    "vying for spots. Each student has their first and second choices."
   ]
  },
  {
   "cell_type": "code",
   "execution_count": 48,
   "metadata": {},
   "outputs": [],
   "source": [
    "# The dorms, each of which has two available spaces\n",
    "dorms=['Williams','Sage','Lehman','Armstrong','Mills']\n",
    "\n",
    "# People, along with their first and second choices\n",
    "prefs=[('Daniel', ('Armstrong', 'Lehman')),\n",
    "       ('Levi', ('Williams', 'Mills')),\n",
    "       ('Colin', ('Sage', 'Williams')),\n",
    "       ('Isaac', ('Williams', 'Mills')),\n",
    "       ('Enzo', ('Sage', 'Armstrong')),\n",
    "       ('Emma', ('Lehman', 'Mills')),\n",
    "       ('Cat', ('Mills', 'Sage')),\n",
    "       ('Michael', ('Armstrong', 'Lehman')),\n",
    "       ('William', ('Armstrong', 'Lehman')),\n",
    "       ('Aaron', ('Lehman', 'Mills'))]"
   ]
  },
  {
   "cell_type": "markdown",
   "metadata": {},
   "source": [
    "It is clear that every student cannot have their top choice: for example, there are only 2 free spots in Armstrong, but 3 students have it as their top choice. We will apply an optimization algorithm to assign students to dorms such that the preferences are satisfied as much as possible for the entire group of students."
   ]
  },
  {
   "cell_type": "markdown",
   "metadata": {},
   "source": [
    "### 3.2. Representing solutions\n",
    "The representation for solutions is a bit trickier for this problem than for the flight\n",
    "problem. We could, in theory, create a list of numbers, one for each student, where\n",
    "each number represents the dorm in which you’ve put the student. \n",
    "\n",
    "The problem is that this representation doesn’t constrain the solution to only two students in each\n",
    "dorm. A list of all zeros would indicate that everyone had been placed in Williams, which\n",
    "isn’t a real solution at all.\n",
    "\n",
    "We need to find a way to represent solutions so that\n",
    "every one of them is valid. A valid solution is not necessarily a good solution; it just means\n",
    "that there are exactly two students assigned to each dorm. \n",
    "\n",
    "__Idea__: One way to do this is to\n",
    "think of every dorm as having two slots, so that in the example there are ten slots in\n",
    "total. Each student, in order, is assigned to one of the open slots—the first person\n",
    "can be placed in any one of the them, the second person can be placed in any of the\n",
    "nine remaining slots, and so on."
   ]
  },
  {
   "cell_type": "code",
   "execution_count": 49,
   "metadata": {},
   "outputs": [
    {
     "name": "stdout",
     "output_type": "stream",
     "text": [
      "[0, 0, 1, 1, 2, 2, 3, 3, 4, 4]\n"
     ]
    }
   ],
   "source": [
    "# Example - list of all possible slots\n",
    "slots=[]\n",
    "# Create two slots for each dorm\n",
    "for i in range(len(dorms)): slots+=[i,i]\n",
    "    \n",
    "# This corresponds to 2 slots in Williams (0,0), 2 slots in Sage (1,1) etc.\n",
    "print(slots)"
   ]
  },
  {
   "cell_type": "markdown",
   "metadata": {},
   "source": [
    "Each student is assigned one slot from the list of slots, and then this slot is removed. Thus a solution contains a list of 10 entries (one for each student) and at each list position there is an index in the <b>remaining</b> list of slots -- <b>after the slot at the corresponding position has been removed</b>. To understand how it works, we show the `print_solution` function and the sample solution."
   ]
  },
  {
   "cell_type": "code",
   "execution_count": 50,
   "metadata": {},
   "outputs": [],
   "source": [
    "def print_solution(sol):\n",
    "    slots=[]\n",
    "    # Create two slots for each dorm\n",
    "    for i in range(len(dorms)):\n",
    "        slots+=[i,i]\n",
    "\n",
    "    # Loop over each students assignment\n",
    "    for i in range(len(sol)):\n",
    "        x=int(sol[i])\n",
    "       \n",
    "        # Choose the slot from the remaining ones\n",
    "        dorm=dorms[slots[x]]\n",
    "        \n",
    "        # Show the student and assigned dorm\n",
    "        print('%10s %10s %25s' % (prefs[i][0], dorm, prefs[i][1]))\n",
    "        #print (prefs[i][0],\"got:\", dorm, \" - prefs:\", prefs[i][1])\n",
    "\n",
    "        # Remove this slot\n",
    "        del slots[x]"
   ]
  },
  {
   "cell_type": "code",
   "execution_count": 51,
   "metadata": {},
   "outputs": [
    {
     "name": "stdout",
     "output_type": "stream",
     "text": [
      "    Daniel   Williams   ('Armstrong', 'Lehman')\n",
      "      Levi   Williams     ('Williams', 'Mills')\n",
      "     Colin       Sage      ('Sage', 'Williams')\n",
      "     Isaac       Sage     ('Williams', 'Mills')\n",
      "      Enzo     Lehman     ('Sage', 'Armstrong')\n",
      "      Emma     Lehman       ('Lehman', 'Mills')\n",
      "       Cat  Armstrong         ('Mills', 'Sage')\n",
      "   Michael  Armstrong   ('Armstrong', 'Lehman')\n",
      "   William      Mills   ('Armstrong', 'Lehman')\n",
      "     Aaron      Mills       ('Lehman', 'Mills')\n"
     ]
    }
   ],
   "source": [
    "print_solution([0,0,0,0,0,0,0,0,0,0])"
   ]
  },
  {
   "cell_type": "markdown",
   "metadata": {},
   "source": [
    "<div style=\"background-color:yellow;\">    \n",
    "    <h3>Task 1. Define domain for each index in the solution</h3>\n",
    "The first position in the solution corresponds to the slot index assigned to the first student (Daniel). Daniel can have any of the 10 indices, so the min is 0, the max is 9. After we remove one slot from the slots list - there are only 9 elements left. Thus the second student can have any index from 0 to 9, etc.    \n",
    " </div> "
   ]
  },
  {
   "cell_type": "code",
   "execution_count": 52,
   "metadata": {},
   "outputs": [
    {
     "name": "stdout",
     "output_type": "stream",
     "text": [
      "[(0, 9), (0, 8), (0, 7), (0, 6), (0, 5), (0, 4), (0, 3), (0, 2), (0, 1), (0, 0)]\n"
     ]
    }
   ],
   "source": [
    "# Initialize the domain. \n",
    "\n",
    "domain = []\n",
    "slots_left = len(slots)-1\n",
    "\n",
    "num = len(prefs)\n",
    "\n",
    "for i in range(num):\n",
    "    domain.append((0, slots_left))\n",
    "    slots_left = slots_left - 1\n",
    "    \n",
    "print(domain)\n",
    "    "
   ]
  },
  {
   "cell_type": "markdown",
   "metadata": {},
   "source": [
    "<div style=\"background-color:yellow;\">    \n",
    "    <h3>Task 2. Implement the cost function</h3>\n",
    "    <ul>\n",
    "        <li>For each student find which dorm they are assigned. If this dorm is their top choice, add 0 to the overall solution cost.</li>\n",
    "        <li>If it is their second choice - add 1 to the overall cost.</li>\n",
    "        <li>If it is not on their list of prefences - add 3 to the cost (far from perfect).</li>\n",
    "    </ul>\n",
    "    <b>DO NOT FORGET TO REMOVE THE CORRESPONDING ENTRY FROM THE SLOTS AFTER IT HAS BEEN TAKEN.</b>\n",
    "</div>"
   ]
  },
  {
   "cell_type": "code",
   "execution_count": 53,
   "metadata": {},
   "outputs": [
    {
     "name": "stdout",
     "output_type": "stream",
     "text": [
      "16\n",
      "    Daniel   Williams   ('Armstrong', 'Lehman')\n",
      "      Levi   Williams     ('Williams', 'Mills')\n",
      "     Colin       Sage      ('Sage', 'Williams')\n",
      "     Isaac       Sage     ('Williams', 'Mills')\n",
      "      Enzo     Lehman     ('Sage', 'Armstrong')\n",
      "      Emma     Lehman       ('Lehman', 'Mills')\n",
      "       Cat  Armstrong         ('Mills', 'Sage')\n",
      "   Michael  Armstrong   ('Armstrong', 'Lehman')\n",
      "   William      Mills   ('Armstrong', 'Lehman')\n",
      "     Aaron      Mills       ('Lehman', 'Mills')\n"
     ]
    }
   ],
   "source": [
    "# cost function\n",
    "\n",
    "def dorm_cost(sol):\n",
    "    cost=0\n",
    "    \n",
    "    \n",
    "    slots=[]\n",
    "    # Create two slots for each dorm\n",
    "    for i in range(len(dorms)):\n",
    "        slots+=[i,i]\n",
    "\n",
    "    # Loop over each students assignment\n",
    "    for i in range(len(sol)):\n",
    "        x=int(sol[i])\n",
    "        \n",
    "        first, second = prefs[i][1]\n",
    "        room = dorms[slots[x]]\n",
    "        \n",
    "        cost += 0 if room == first else 1 if room == second else 3\n",
    "        \n",
    "        # Remove this slot\n",
    "        del slots[x]\n",
    "        \n",
    "    \n",
    "    return cost\n",
    "\n",
    "# for testing\n",
    "sol_testing = [0,0,0,0,0,0,0,0,0,0]\n",
    "result = dorm_cost(sol_testing)\n",
    "print(result)\n",
    "print_solution(sol_testing)"
   ]
  },
  {
   "cell_type": "markdown",
   "metadata": {},
   "source": [
    "<div style=\"background-color:yellow;\">    \n",
    "    <h3>Task 3. Run optimizations</h3>\n",
    "Run the optimization algorithms in the cells below. Play with the parameters to achieve the best score. Report the parameters and the best results and compare them in the report. The report can be added at the end of the lab in a separate markdown cell.  \n",
    " </div> "
   ]
  },
  {
   "cell_type": "markdown",
   "metadata": {},
   "source": [
    "#### Random optimize"
   ]
  },
  {
   "cell_type": "code",
   "execution_count": 54,
   "metadata": {},
   "outputs": [
    {
     "name": "stdout",
     "output_type": "stream",
     "text": [
      "\n",
      "-----------Random optimize----------\n",
      "Total cost for 30000 trials is:2\n",
      "\n",
      "    Daniel  Armstrong   ('Armstrong', 'Lehman')\n",
      "      Levi   Williams     ('Williams', 'Mills')\n",
      "     Colin       Sage      ('Sage', 'Williams')\n",
      "     Isaac   Williams     ('Williams', 'Mills')\n",
      "      Enzo       Sage     ('Sage', 'Armstrong')\n",
      "      Emma      Mills       ('Lehman', 'Mills')\n",
      "       Cat      Mills         ('Mills', 'Sage')\n",
      "   Michael  Armstrong   ('Armstrong', 'Lehman')\n",
      "   William     Lehman   ('Armstrong', 'Lehman')\n",
      "     Aaron     Lehman       ('Lehman', 'Mills')\n"
     ]
    }
   ],
   "source": [
    "sol, sol_cost, n = random_optimize(domain,  dorm_cost, 30000)\n",
    "print(\"\\n-----------Random optimize----------\")\n",
    "print(\"Total cost for {} trials is:{}\\n\".format(n, sol_cost))\n",
    "print_solution(sol)"
   ]
  },
  {
   "cell_type": "markdown",
   "metadata": {},
   "source": [
    "#### Hill climbing"
   ]
  },
  {
   "cell_type": "code",
   "execution_count": 55,
   "metadata": {},
   "outputs": [
    {
     "name": "stdout",
     "output_type": "stream",
     "text": [
      "\n",
      "-----------Hill climb optimize----------\n",
      "Total cost after 3 downhill steps is:14\n",
      "\n",
      "    Daniel       Sage   ('Armstrong', 'Lehman')\n",
      "      Levi      Mills     ('Williams', 'Mills')\n",
      "     Colin     Lehman      ('Sage', 'Williams')\n",
      "     Isaac   Williams     ('Williams', 'Mills')\n",
      "      Enzo       Sage     ('Sage', 'Armstrong')\n",
      "      Emma      Mills       ('Lehman', 'Mills')\n",
      "       Cat  Armstrong         ('Mills', 'Sage')\n",
      "   Michael   Williams   ('Armstrong', 'Lehman')\n",
      "   William  Armstrong   ('Armstrong', 'Lehman')\n",
      "     Aaron     Lehman       ('Lehman', 'Mills')\n"
     ]
    }
   ],
   "source": [
    "sol, sol_cost, n = hillclimb_optimize(domain, dorm_cost)\n",
    "print(\"\\n-----------Hill climb optimize----------\")\n",
    "print(\"Total cost after {} downhill steps is:{}\\n\".format(n, sol_cost))\n",
    "print_solution(sol)"
   ]
  },
  {
   "cell_type": "markdown",
   "metadata": {},
   "source": [
    "#### Simulated annealing"
   ]
  },
  {
   "cell_type": "code",
   "execution_count": 56,
   "metadata": {},
   "outputs": [
    {
     "name": "stdout",
     "output_type": "stream",
     "text": [
      "\n",
      "-----------Annealing optimize----------\n",
      "Total cost after 110 cooling steps is:9\n",
      "\n",
      "    Daniel  Armstrong   ('Armstrong', 'Lehman')\n",
      "      Levi   Williams     ('Williams', 'Mills')\n",
      "     Colin       Sage      ('Sage', 'Williams')\n",
      "     Isaac      Mills     ('Williams', 'Mills')\n",
      "      Enzo  Armstrong     ('Sage', 'Armstrong')\n",
      "      Emma      Mills       ('Lehman', 'Mills')\n",
      "       Cat       Sage         ('Mills', 'Sage')\n",
      "   Michael     Lehman   ('Armstrong', 'Lehman')\n",
      "   William     Lehman   ('Armstrong', 'Lehman')\n",
      "     Aaron   Williams       ('Lehman', 'Mills')\n"
     ]
    }
   ],
   "source": [
    "sol, sol_cost, n = annealing_optimize(domain, dorm_cost,cool=0.9)\n",
    "print(\"\\n-----------Annealing optimize----------\")\n",
    "print(\"Total cost after {} cooling steps is:{}\\n\".format(n, sol_cost))\n",
    "print_solution(sol)"
   ]
  },
  {
   "cell_type": "markdown",
   "metadata": {},
   "source": [
    "#### Genetic algorithm"
   ]
  },
  {
   "cell_type": "code",
   "execution_count": 57,
   "metadata": {},
   "outputs": [
    {
     "name": "stdout",
     "output_type": "stream",
     "text": [
      "\n",
      "-----------Genetic algorithme----------\n",
      "Total cost after 200 generations is:2\n",
      "\n",
      "    Daniel     Lehman   ('Armstrong', 'Lehman')\n",
      "      Levi   Williams     ('Williams', 'Mills')\n",
      "     Colin       Sage      ('Sage', 'Williams')\n",
      "     Isaac   Williams     ('Williams', 'Mills')\n",
      "      Enzo       Sage     ('Sage', 'Armstrong')\n",
      "      Emma     Lehman       ('Lehman', 'Mills')\n",
      "       Cat      Mills         ('Mills', 'Sage')\n",
      "   Michael  Armstrong   ('Armstrong', 'Lehman')\n",
      "   William  Armstrong   ('Armstrong', 'Lehman')\n",
      "     Aaron      Mills       ('Lehman', 'Mills')\n"
     ]
    }
   ],
   "source": [
    "sol, sol_cost, n = genetic_optimize(domain, dorm_cost,\n",
    "                                popsize=2048*2, mut_prob=0.5,\n",
    "                                elite_ratio=0.1, n=200)\n",
    "print(\"\\n-----------Genetic algorithme----------\")\n",
    "print(\"Total cost after {} generations is:{}\\n\".format(n, sol_cost))\n",
    "print_solution(sol)"
   ]
  },
  {
   "cell_type": "markdown",
   "metadata": {},
   "source": [
    "<div style=\"background-color:yellow;\">    \n",
    "    <h3>Task 4 [Bonus]. Best solution</h3>\n",
    "The sample input for this problem is very small. The total number of possible solutions is just 10!=3,628,800. Enumerate all possible solutions and find the one with the lowest cost. Was any of the optimization algorithms able to find the best solution?  \n",
    " </div> "
   ]
  },
  {
   "cell_type": "code",
   "execution_count": 58,
   "metadata": {},
   "outputs": [
    {
     "name": "stdout",
     "output_type": "stream",
     "text": [
      "Total number of possible solutions:  1024\n",
      "\n",
      "The lowest cost possible is:  4\n",
      "\n"
     ]
    }
   ],
   "source": [
    "from itertools import product\n",
    "\n",
    "min_cost = None\n",
    "optimal_sol = []\n",
    "\n",
    "solution_counter = 0\n",
    "\n",
    "\n",
    "def find_optimal_solution(domain):\n",
    "    solutions = list(product(*domain))\n",
    "    optimal_sol = min(solutions, key=dorm_cost)\n",
    "    return optimal_sol, dorm_cost(optimal_sol)\n",
    "\n",
    "optimal_solution, min_cost = find_optimal_solution(domain)\n",
    "solution_counter = len(list(product(*domain)))\n",
    "\n",
    "                                          \n",
    "print(\"Total number of possible solutions: \", solution_counter)\n",
    "print()\n",
    "print(\"The lowest cost possible is: \", min_cost)\n",
    "print()\n",
    "print_solution(optimal_sol)\n"
   ]
  },
  {
   "cell_type": "markdown",
   "metadata": {},
   "source": [
    "Use cases in this lab are adopted from the book ''Programming Collective Intelligence'', by Toby Segaran, 2007."
   ]
  }
 ],
 "metadata": {
  "kernelspec": {
   "display_name": "Python 3",
   "language": "python",
   "name": "python3"
  },
  "language_info": {
   "codemirror_mode": {
    "name": "ipython",
    "version": 3
   },
   "file_extension": ".py",
   "mimetype": "text/x-python",
   "name": "python",
   "nbconvert_exporter": "python",
   "pygments_lexer": "ipython3",
   "version": "3.11.8"
  }
 },
 "nbformat": 4,
 "nbformat_minor": 4
}
